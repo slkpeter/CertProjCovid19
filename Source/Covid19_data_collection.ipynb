{
 "cells": [
  {
   "cell_type": "code",
   "execution_count": 1,
   "metadata": {},
   "outputs": [
    {
     "data": {
      "text/plain": [
       "Session(region_name='eu-central-1')"
      ]
     },
     "execution_count": 1,
     "metadata": {},
     "output_type": "execute_result"
    }
   ],
   "source": [
    "import boto3\n",
    "\n",
    "session = boto3.Session() # Grabs session details directly from aws configuration in EC2 instance running the Notebook server\n",
    "session"
   ]
  },
  {
   "cell_type": "code",
   "execution_count": 3,
   "metadata": {},
   "outputs": [
    {
     "data": {
      "text/plain": [
       "s3.ServiceResource()"
      ]
     },
     "execution_count": 3,
     "metadata": {},
     "output_type": "execute_result"
    }
   ],
   "source": [
    "s3r = session.resource(\"s3\")\n",
    "s3r"
   ]
  },
  {
   "cell_type": "code",
   "execution_count": 8,
   "metadata": {},
   "outputs": [
    {
     "name": "stdout",
     "output_type": "stream",
     "text": [
      "s3.Bucket(name='aida-project')\n",
      "s3.Bucket(name='cseng-1468-bucket')\n",
      "s3.Bucket(name='flutz-bucket')\n",
      "s3.Bucket(name='igeokce-s3quest')\n",
      "s3.Bucket(name='jgodley-q1468')\n",
      "s3.Bucket(name='jgodley-q1490')\n",
      "s3.Bucket(name='jpoliak-1468')\n",
      "s3.Bucket(name='jpoliak1394')\n",
      "s3.Bucket(name='jpoliak1490')\n",
      "s3.Bucket(name='mpensel-aida-live')\n",
      "s3.Bucket(name='niy-certification')\n",
      "s3.Bucket(name='njeno-auto-ml')\n",
      "s3.Bucket(name='peckert-1464-bucket')\n",
      "s3.Bucket(name='peckert-1490-automl')\n",
      "s3.Bucket(name='sagemaker-eu-central-1-898627427171')\n",
      "s3.Bucket(name='sagemaker-studio-898627427171-of0968vn9r')\n",
      "s3.Bucket(name='sharston')\n",
      "s3.Bucket(name='sjf-project')\n",
      "s3.Bucket(name='ye-1468')\n",
      "s3.Bucket(name='ye-1490')\n"
     ]
    }
   ],
   "source": [
    "for bucket in s3r.buckets.all():\n",
    "  print(bucket)"
   ]
  },
  {
   "cell_type": "code",
   "execution_count": 19,
   "metadata": {},
   "outputs": [
    {
     "name": "stdout",
     "output_type": "stream",
     "text": [
      "Covid-19/1/owid-covid-data.csv\n",
      "Covid-19/2/covid-19-at.csv\n",
      "Covid-19/2/covid-19-be.csv\n",
      "Covid-19/2/covid-19-ch.csv\n",
      "Covid-19/2/covid-19-cz.csv\n",
      "Covid-19/2/covid-19-de.csv\n",
      "Covid-19/2/covid-19-ecdc.csv\n",
      "Covid-19/2/covid-19-england.csv\n",
      "Covid-19/2/covid-19-fr.csv\n",
      "Covid-19/2/covid-19-hu.csv\n",
      "Covid-19/2/covid-19-ie.csv\n",
      "Covid-19/2/covid-19-it.csv\n",
      "Covid-19/2/covid-19-nl.csv\n",
      "Covid-19/2/covid-19-no.csv\n",
      "Covid-19/2/covid-19-pl.csv\n",
      "Covid-19/2/covid-19-scotland.csv\n",
      "Covid-19/2/covid-19-se.csv\n",
      "Covid-19/2/covid-19-si.csv\n",
      "Covid-19/2/covid-19-uk.csv\n",
      "Covid-19/2/covid-19-wales.csv\n",
      "Covid-19/3/time_series_covid19_confirmed_US.csv\n",
      "Covid-19/3/time_series_covid19_confirmed_global.csv\n",
      "Covid-19/3/time_series_covid19_deaths_US.csv\n",
      "Covid-19/3/time_series_covid19_deaths_global.csv\n",
      "Covid-19/3/time_series_covid19_recovered_global.csv\n",
      "Covid-19/4/covid_jpn_metadata.csv\n",
      "Covid-19/4/covid_jpn_prefecture.csv\n",
      "Covid-19/4/covid_jpn_total.csv\n",
      "Covid-19/5/brazil_cities_coordinates.csv\n",
      "Covid-19/5/brazil_covid19.csv\n",
      "Covid-19/5/brazil_covid19_cities.csv\n",
      "Covid-19/5/brazil_covid19_macro.csv\n",
      "Covid-19/5/brazil_covid19_old.csv\n",
      "Covid-19/5/brazil_population_2019.csv\n",
      "Covid-19/6/StatewiseTestingDetails.csv\n",
      "Covid-19/6/covid_19_india.csv\n"
     ]
    }
   ],
   "source": [
    "bucket = s3r.Bucket('aida-project')\n",
    "files=[]\n",
    "for obj in bucket.objects.all():\n",
    "  if obj.key.startswith(\"Covid\"):\n",
    "#    print(obj.key)\n",
    "    if obj.key.endswith(\"csv\"):\n",
    "        files.append(obj.key)\n",
    "for file in files:\n",
    "    print(file)"
   ]
  },
  {
   "cell_type": "code",
   "execution_count": 26,
   "metadata": {},
   "outputs": [],
   "source": [
    "def df_investigate(df):\n",
    "  info = pd.DataFrame(df.count(), columns=['filled'])\n",
    "  info['filled %'] = round(info['filled'] / len(df), 4)*100\n",
    "  info['nunique'] = df.nunique()\n",
    "  info['uniques'] = np.nan\n",
    "  info['dtypes'] = df.dtypes\n",
    "  for idx, row in info.iterrows():\n",
    "    if row['nunique'] < 10:\n",
    "      info.loc[idx, 'uniques'] = str(list(df[idx].unique()))\n",
    "  return info"
   ]
  },
  {
   "cell_type": "code",
   "execution_count": 111,
   "metadata": {},
   "outputs": [
    {
     "name": "stdout",
     "output_type": "stream",
     "text": [
      "************************************\n",
      "*  Covid-19/1/owid-covid-data.csv  *\n",
      "************************************\n",
      "****************************************\n",
      "*  Covid-19/2/covid-19-at.csv  *\n",
      "****************************************\n",
      "****************************************\n",
      "*  Covid-19/2/covid-19-be.csv  *\n",
      "****************************************\n",
      "****************************************\n",
      "*  Covid-19/2/covid-19-ch.csv  *\n",
      "****************************************\n",
      "****************************************\n",
      "*  Covid-19/2/covid-19-cz.csv  *\n",
      "****************************************\n",
      "****************************************\n",
      "*  Covid-19/2/covid-19-de.csv  *\n",
      "****************************************\n",
      "**************************************\n",
      "*  Covid-19/2/covid-19-ecdc.csv  *\n",
      "**************************************\n",
      "***********************************\n",
      "*  Covid-19/2/covid-19-england.csv  *\n",
      "***********************************\n",
      "****************************************\n",
      "*  Covid-19/2/covid-19-fr.csv  *\n",
      "****************************************\n",
      "****************************************\n",
      "*  Covid-19/2/covid-19-hu.csv  *\n",
      "****************************************\n",
      "****************************************\n",
      "*  Covid-19/2/covid-19-ie.csv  *\n",
      "****************************************\n",
      "****************************************\n",
      "*  Covid-19/2/covid-19-it.csv  *\n",
      "****************************************\n",
      "****************************************\n",
      "*  Covid-19/2/covid-19-nl.csv  *\n",
      "****************************************\n",
      "****************************************\n",
      "*  Covid-19/2/covid-19-no.csv  *\n",
      "****************************************\n",
      "****************************************\n",
      "*  Covid-19/2/covid-19-pl.csv  *\n",
      "****************************************\n",
      "**********************************\n",
      "*  Covid-19/2/covid-19-scotland.csv  *\n",
      "**********************************\n",
      "****************************************\n",
      "*  Covid-19/2/covid-19-se.csv  *\n",
      "****************************************\n",
      "****************************************\n",
      "*  Covid-19/2/covid-19-si.csv  *\n",
      "****************************************\n",
      "****************************************\n",
      "*  Covid-19/2/covid-19-uk.csv  *\n",
      "****************************************\n",
      "*************************************\n",
      "*  Covid-19/2/covid-19-wales.csv  *\n",
      "*************************************\n",
      "*******************\n",
      "*  Covid-19/3/time_series_covid19_confirmed_US.csv  *\n",
      "*******************\n",
      "***************\n",
      "*  Covid-19/3/time_series_covid19_confirmed_global.csv  *\n",
      "***************\n",
      "**********************\n",
      "*  Covid-19/3/time_series_covid19_deaths_US.csv  *\n",
      "**********************\n",
      "******************\n",
      "*  Covid-19/3/time_series_covid19_deaths_global.csv  *\n",
      "******************\n",
      "***************\n",
      "*  Covid-19/3/time_series_covid19_recovered_global.csv  *\n",
      "***************\n",
      "*********************************\n",
      "*  Covid-19/4/covid_jpn_metadata.csv  *\n",
      "*********************************\n",
      "*******************************\n",
      "*  Covid-19/4/covid_jpn_prefecture.csv  *\n",
      "*******************************\n",
      "************************************\n",
      "*  Covid-19/4/covid_jpn_total.csv  *\n",
      "************************************\n",
      "**************************\n",
      "*  Covid-19/5/brazil_cities_coordinates.csv  *\n",
      "**************************\n",
      "*************************************\n",
      "*  Covid-19/5/brazil_covid19.csv  *\n",
      "*************************************\n",
      "******************************\n",
      "*  Covid-19/5/brazil_covid19_cities.csv  *\n",
      "******************************\n",
      "*******************************\n",
      "*  Covid-19/5/brazil_covid19_macro.csv  *\n",
      "*******************************\n",
      "*********************************\n",
      "*  Covid-19/5/brazil_covid19_old.csv  *\n",
      "*********************************\n",
      "*****************************\n",
      "*  Covid-19/5/brazil_population_2019.csv  *\n",
      "*****************************\n"
     ]
    },
    {
     "name": "stderr",
     "output_type": "stream",
     "text": [
      "b'Skipping line 1282: expected 8 fields, saw 9\\nSkipping line 1283: expected 8 fields, saw 9\\nSkipping line 1293: expected 8 fields, saw 9\\nSkipping line 1294: expected 8 fields, saw 9\\nSkipping line 1300: expected 8 fields, saw 9\\nSkipping line 1308: expected 8 fields, saw 9\\nSkipping line 1309: expected 8 fields, saw 9\\nSkipping line 1314: expected 8 fields, saw 9\\nSkipping line 1319: expected 8 fields, saw 9\\nSkipping line 1320: expected 8 fields, saw 9\\nSkipping line 1321: expected 8 fields, saw 9\\nSkipping line 1323: expected 8 fields, saw 9\\n'\n"
     ]
    },
    {
     "name": "stdout",
     "output_type": "stream",
     "text": [
      "****************************\n",
      "*  Covid-19/6/StatewiseTestingDetails.csv  *\n",
      "****************************\n",
      "*************************************\n",
      "*  Covid-19/6/covid_19_india.csv  *\n",
      "*************************************\n"
     ]
    }
   ],
   "source": [
    "import pandas as pd\n",
    "import numpy as np\n",
    "cols={}\n",
    "investigation={}\n",
    "for i in range(len(files)):\n",
    "    nstars=62 - len(files[i])\n",
    "    print((nstars + 4)*'*')\n",
    "    print('* ',files[i],' *')\n",
    "    print((nstars + 4)*'*')\n",
    "    file_check = \"s3://\" + bucket.name + \"/\" + files[i]\n",
    "\n",
    "    # get the training data\n",
    "    df = pd.read_csv(file_check, error_bad_lines=False)\n",
    "    \n",
    "    \"\"\"\n",
    "    print(df.head(3))\n",
    "    print(\"\\n\",30*'=')\n",
    "    print('   Investigation')\n",
    "    print(30*'=',\"\\n\")\n",
    "    \"\"\"\n",
    "    \n",
    "    inv = df_investigate(df)\n",
    "    investigation[files[i]]=inv\n",
    "    cols[files[i]] = df.columns.values.tolist()\n"
   ]
  },
  {
   "cell_type": "code",
   "execution_count": 112,
   "metadata": {},
   "outputs": [
    {
     "name": "stdout",
     "output_type": "stream",
     "text": [
      "Covid-19/5/brazil_cities_coordinates.csv \n",
      " ['state_code', 'city_code', 'city_name', 'lat', 'long', 'capital']\n",
      "Covid-19/5/brazil_covid19.csv \n",
      " ['date', 'region', 'state', 'cases', 'deaths']\n",
      "Covid-19/5/brazil_covid19_cities.csv \n",
      " ['date', 'state', 'name', 'code', 'cases', 'deaths']\n",
      "Covid-19/5/brazil_covid19_macro.csv \n",
      " ['date', 'country', 'week', 'cases', 'deaths', 'recovered', 'monitoring']\n",
      "Covid-19/5/brazil_covid19_old.csv \n",
      " ['date', 'hour', 'state', 'suspects', 'refuses', 'cases', 'deaths']\n",
      "Covid-19/5/brazil_population_2019.csv \n",
      " ['region', 'state', 'city', 'state_code', 'city_code', 'health_region_code', 'health_region', 'population']\n"
     ]
    }
   ],
   "source": [
    "# link2: 1,20\n",
    "# link3: 20,25\n",
    "# link4: 25,28\n",
    "# link5: 28,34\n",
    "# link6: 34,36\n",
    "\n",
    "\n",
    "\n",
    "for i in range(28,34):\n",
    "    print(files[i],\"\\n\",cols[files[i]])"
   ]
  },
  {
   "cell_type": "code",
   "execution_count": 115,
   "metadata": {},
   "outputs": [
    {
     "data": {
      "text/html": [
       "<div>\n",
       "<style scoped>\n",
       "    .dataframe tbody tr th:only-of-type {\n",
       "        vertical-align: middle;\n",
       "    }\n",
       "\n",
       "    .dataframe tbody tr th {\n",
       "        vertical-align: top;\n",
       "    }\n",
       "\n",
       "    .dataframe thead th {\n",
       "        text-align: right;\n",
       "    }\n",
       "</style>\n",
       "<table border=\"1\" class=\"dataframe\">\n",
       "  <thead>\n",
       "    <tr style=\"text-align: right;\">\n",
       "      <th></th>\n",
       "      <th>filled</th>\n",
       "      <th>filled %</th>\n",
       "      <th>nunique</th>\n",
       "      <th>uniques</th>\n",
       "      <th>dtypes</th>\n",
       "    </tr>\n",
       "  </thead>\n",
       "  <tbody>\n",
       "    <tr>\n",
       "      <th>country</th>\n",
       "      <td>141580</td>\n",
       "      <td>100.00</td>\n",
       "      <td>1</td>\n",
       "      <td>['NL']</td>\n",
       "      <td>object</td>\n",
       "    </tr>\n",
       "    <tr>\n",
       "      <th>lau</th>\n",
       "      <td>141467</td>\n",
       "      <td>99.92</td>\n",
       "      <td>369</td>\n",
       "      <td>NaN</td>\n",
       "      <td>object</td>\n",
       "    </tr>\n",
       "    <tr>\n",
       "      <th>cases</th>\n",
       "      <td>135916</td>\n",
       "      <td>96.00</td>\n",
       "      <td>1357</td>\n",
       "      <td>NaN</td>\n",
       "      <td>float64</td>\n",
       "    </tr>\n",
       "    <tr>\n",
       "      <th>population</th>\n",
       "      <td>139030</td>\n",
       "      <td>98.20</td>\n",
       "      <td>1084</td>\n",
       "      <td>NaN</td>\n",
       "      <td>float64</td>\n",
       "    </tr>\n",
       "    <tr>\n",
       "      <th>cases/100k pop.</th>\n",
       "      <td>4970</td>\n",
       "      <td>3.51</td>\n",
       "      <td>1070</td>\n",
       "      <td>NaN</td>\n",
       "      <td>float64</td>\n",
       "    </tr>\n",
       "    <tr>\n",
       "      <th>deaths</th>\n",
       "      <td>141580</td>\n",
       "      <td>100.00</td>\n",
       "      <td>157</td>\n",
       "      <td>NaN</td>\n",
       "      <td>int64</td>\n",
       "    </tr>\n",
       "    <tr>\n",
       "      <th>hospitalized</th>\n",
       "      <td>134173</td>\n",
       "      <td>94.77</td>\n",
       "      <td>792</td>\n",
       "      <td>NaN</td>\n",
       "      <td>float64</td>\n",
       "    </tr>\n",
       "    <tr>\n",
       "      <th>hospitalized/100k pop.</th>\n",
       "      <td>2832</td>\n",
       "      <td>2.00</td>\n",
       "      <td>447</td>\n",
       "      <td>NaN</td>\n",
       "      <td>float64</td>\n",
       "    </tr>\n",
       "    <tr>\n",
       "      <th>datetime</th>\n",
       "      <td>141580</td>\n",
       "      <td>100.00</td>\n",
       "      <td>164</td>\n",
       "      <td>NaN</td>\n",
       "      <td>object</td>\n",
       "    </tr>\n",
       "  </tbody>\n",
       "</table>\n",
       "</div>"
      ],
      "text/plain": [
       "                        filled  filled %  nunique uniques   dtypes\n",
       "country                 141580    100.00        1  ['NL']   object\n",
       "lau                     141467     99.92      369     NaN   object\n",
       "cases                   135916     96.00     1357     NaN  float64\n",
       "population              139030     98.20     1084     NaN  float64\n",
       "cases/100k pop.           4970      3.51     1070     NaN  float64\n",
       "deaths                  141580    100.00      157     NaN    int64\n",
       "hospitalized            134173     94.77      792     NaN  float64\n",
       "hospitalized/100k pop.    2832      2.00      447     NaN  float64\n",
       "datetime                141580    100.00      164     NaN   object"
      ]
     },
     "execution_count": 115,
     "metadata": {},
     "output_type": "execute_result"
    }
   ],
   "source": [
    "investigation['Covid-19/2/covid-19-nl.csv']"
   ]
  },
  {
   "cell_type": "code",
   "execution_count": null,
   "metadata": {},
   "outputs": [],
   "source": []
  }
 ],
 "metadata": {
  "kernelspec": {
   "display_name": "conda_python3",
   "language": "python",
   "name": "conda_python3"
  },
  "language_info": {
   "codemirror_mode": {
    "name": "ipython",
    "version": 3
   },
   "file_extension": ".py",
   "mimetype": "text/x-python",
   "name": "python",
   "nbconvert_exporter": "python",
   "pygments_lexer": "ipython3",
   "version": "3.6.10"
  }
 },
 "nbformat": 4,
 "nbformat_minor": 4
}
